{
  "cells": [
    {
      "cell_type": "markdown",
      "metadata": {
        "id": "view-in-github",
        "colab_type": "text"
      },
      "source": [
        "<a href=\"https://colab.research.google.com/github/Daria13-gif/cs102/blob/homework06/%D0%9A%D0%BE%D0%BF%D0%B8%D1%8F_%D0%B1%D0%BB%D0%BE%D0%BA%D0%BD%D0%BE%D1%82%D0%B0_%22%D0%9F%D1%80%D0%B0%D0%BA%D1%82%D0%B8%D1%87%D0%B5%D1%81%D0%BA%D0%B0%D1%8F_%D1%80%D0%B0%D0%B1%D0%BE%D1%82%D0%B0_6_22_23_ipynb%22.ipynb\" target=\"_parent\"><img src=\"https://colab.research.google.com/assets/colab-badge.svg\" alt=\"Open In Colab\"/></a>"
      ]
    },
    {
      "cell_type": "markdown",
      "metadata": {
        "id": "KSKKDKd2rwlj"
      },
      "source": [
        "# Дескриптивный анализ данных"
      ]
    },
    {
      "cell_type": "markdown",
      "metadata": {
        "id": "WVUwSMwE3W8c"
      },
      "source": [
        ">$\\color{red}{\\text{Прежде чем перейти в выполнению заданий,}}$ \n",
        "$\\color{red}{\\text{через меню Файл подключите свой гугл-колаб к своему гитхабу. }}$\n",
        "$\\color{red}{\\text{Создайте для этой работы отдельную ветку и папку – homework06.}}$"
      ]
    },
    {
      "cell_type": "markdown",
      "metadata": {
        "id": "34z2ONdu-UF0"
      },
      "source": [
        "*Построение всех графиков выполняется только при помощи средств визуализации `Python`: `matplotlib`, `seaborn`, `pandas`. По каждому заданию должен быть сделан вывод. Для всех визуализаций используйте стиль `seaborn`. Обязательно добавляйте подпись графика и осей.* "
      ]
    },
    {
      "cell_type": "markdown",
      "metadata": {
        "id": "2PDB4mwLr1Sk"
      },
      "source": [
        "В этой практической работе вам предстоит провести анализ данных об особенностях жанров музыки. Датасет возьмите [отсюда](https://www.kaggle.com/vicsuperman/prediction-of-music-genre). Он содержит 41700 уникальных исполниителей.\n",
        "\n",
        "Данные содержат 18 столбцов:\n",
        "- `instance_id` - id строки датасета\n",
        "- `artist_name` - исполнитель\n",
        "- `track_name` - название трека\n",
        "- `popularity` - индекс популярности трека\n",
        "- `acousticness` - акустичность\n",
        "- `danceability` - танцевальность (насколько трек подходит для танцев)\n",
        "- `duration_ms` - длительность трека\n",
        "- `energy` - энергичность трека\n",
        "- `instrumentalness` - инструментальность\n",
        "- `key` - регистр (высота тона)\n",
        "- `liveness` - живость\n",
        "- `loudness` - громкость\n",
        "- `mode` - тональность\n",
        "- `speechiness` - насколько много текста\n",
        "- `tempo` - музыкальный темп\n",
        "- `obtained_date` - дата загрузки трека в датасет\n",
        "- `valence` - настроение\n",
        "- `music_genre` - жанр"
      ]
    },
    {
      "cell_type": "markdown",
      "metadata": {
        "id": "bkchMOL3490D"
      },
      "source": [
        "## Часть 1\n",
        "\n",
        "Выполните все задания ниже с помощью библиотеки `pandas`."
      ]
    },
    {
      "cell_type": "markdown",
      "metadata": {
        "id": "2oLTrZbOxFmz"
      },
      "source": [
        "### Задание 1"
      ]
    },
    {
      "cell_type": "markdown",
      "metadata": {
        "id": "UiPqPkb0wwyw"
      },
      "source": [
        "1. Загрузите датасет `music_genre.csv`.\n",
        "2. Возьмите 20 тысяч случайных строк из датасета (**все остальные задания выполняйте для этих 20 тысяч строк!!!**)\n",
        "3. Проверьте, есть ли в датасете дублирующиеся строки. Если есть, удалите их.\n",
        "4. Проверьте, есть ли а датасете строки, в которых значение в столбце `artist_name` – `empty_field`. Если есть, выведите эти строки и их количество. А затем удалите из датасета."
      ]
    },
    {
      "cell_type": "code",
      "execution_count": null,
      "metadata": {
        "colab": {
          "background_save": true,
          "base_uri": "https://localhost:8080/",
          "height": 653
        },
        "id": "tl9YzaUpfa1f",
        "outputId": "4a7560c5-493f-434e-c680-b381abef60ea"
      },
      "outputs": [
        {
          "data": {
            "text/html": [
              "\n",
              "  <div id=\"df-1fee6c24-7000-401b-95d2-83b1fd867f7c\">\n",
              "    <div class=\"colab-df-container\">\n",
              "      <div>\n",
              "<style scoped>\n",
              "    .dataframe tbody tr th:only-of-type {\n",
              "        vertical-align: middle;\n",
              "    }\n",
              "\n",
              "    .dataframe tbody tr th {\n",
              "        vertical-align: top;\n",
              "    }\n",
              "\n",
              "    .dataframe thead th {\n",
              "        text-align: right;\n",
              "    }\n",
              "</style>\n",
              "<table border=\"1\" class=\"dataframe\">\n",
              "  <thead>\n",
              "    <tr style=\"text-align: right;\">\n",
              "      <th></th>\n",
              "      <th>instance_id</th>\n",
              "      <th>artist_name</th>\n",
              "      <th>track_name</th>\n",
              "      <th>popularity</th>\n",
              "      <th>acousticness</th>\n",
              "      <th>danceability</th>\n",
              "      <th>duration_ms</th>\n",
              "      <th>energy</th>\n",
              "      <th>instrumentalness</th>\n",
              "      <th>key</th>\n",
              "      <th>liveness</th>\n",
              "      <th>loudness</th>\n",
              "      <th>mode</th>\n",
              "      <th>speechiness</th>\n",
              "      <th>tempo</th>\n",
              "      <th>obtained_date</th>\n",
              "      <th>valence</th>\n",
              "      <th>music_genre</th>\n",
              "    </tr>\n",
              "  </thead>\n",
              "  <tbody>\n",
              "    <tr>\n",
              "      <th>34747</th>\n",
              "      <td>21032.0</td>\n",
              "      <td>The Heavy</td>\n",
              "      <td>Put the Hurt on Me</td>\n",
              "      <td>34.0</td>\n",
              "      <td>0.001340</td>\n",
              "      <td>0.639</td>\n",
              "      <td>247067.0</td>\n",
              "      <td>0.8640</td>\n",
              "      <td>0.000108</td>\n",
              "      <td>D</td>\n",
              "      <td>0.121</td>\n",
              "      <td>-4.062</td>\n",
              "      <td>Major</td>\n",
              "      <td>0.2560</td>\n",
              "      <td>178.11</td>\n",
              "      <td>4-Apr</td>\n",
              "      <td>0.685</td>\n",
              "      <td>Blues</td>\n",
              "    </tr>\n",
              "    <tr>\n",
              "      <th>10282</th>\n",
              "      <td>24780.0</td>\n",
              "      <td>Mndsgn</td>\n",
              "      <td>Guess It’s All Over</td>\n",
              "      <td>38.0</td>\n",
              "      <td>0.140000</td>\n",
              "      <td>0.640</td>\n",
              "      <td>347402.0</td>\n",
              "      <td>0.4810</td>\n",
              "      <td>0.000043</td>\n",
              "      <td>E</td>\n",
              "      <td>0.071</td>\n",
              "      <td>-8.646</td>\n",
              "      <td>Minor</td>\n",
              "      <td>0.0558</td>\n",
              "      <td>121.963</td>\n",
              "      <td>4-Apr</td>\n",
              "      <td>0.750</td>\n",
              "      <td>Jazz</td>\n",
              "    </tr>\n",
              "    <tr>\n",
              "      <th>1834</th>\n",
              "      <td>38095.0</td>\n",
              "      <td>Massive Attack</td>\n",
              "      <td>Man Next Door</td>\n",
              "      <td>52.0</td>\n",
              "      <td>0.037100</td>\n",
              "      <td>0.727</td>\n",
              "      <td>356267.0</td>\n",
              "      <td>0.6660</td>\n",
              "      <td>0.128000</td>\n",
              "      <td>G#</td>\n",
              "      <td>0.157</td>\n",
              "      <td>-9.777</td>\n",
              "      <td>Major</td>\n",
              "      <td>0.0334</td>\n",
              "      <td>129.995</td>\n",
              "      <td>4-Apr</td>\n",
              "      <td>0.564</td>\n",
              "      <td>Electronic</td>\n",
              "    </tr>\n",
              "    <tr>\n",
              "      <th>14964</th>\n",
              "      <td>65829.0</td>\n",
              "      <td>Cory Henry</td>\n",
              "      <td>Seven</td>\n",
              "      <td>36.0</td>\n",
              "      <td>0.692000</td>\n",
              "      <td>0.464</td>\n",
              "      <td>315539.0</td>\n",
              "      <td>0.5720</td>\n",
              "      <td>0.930000</td>\n",
              "      <td>C#</td>\n",
              "      <td>0.392</td>\n",
              "      <td>-8.594</td>\n",
              "      <td>Minor</td>\n",
              "      <td>0.0673</td>\n",
              "      <td>112.13600000000001</td>\n",
              "      <td>1-Apr</td>\n",
              "      <td>0.578</td>\n",
              "      <td>Jazz</td>\n",
              "    </tr>\n",
              "    <tr>\n",
              "      <th>42384</th>\n",
              "      <td>48556.0</td>\n",
              "      <td>Georg Philipp Telemann</td>\n",
              "      <td>Trio in B Minor, TWV 42:h6: III. Andante</td>\n",
              "      <td>8.0</td>\n",
              "      <td>0.861000</td>\n",
              "      <td>0.195</td>\n",
              "      <td>188987.0</td>\n",
              "      <td>0.0374</td>\n",
              "      <td>0.002140</td>\n",
              "      <td>F</td>\n",
              "      <td>0.112</td>\n",
              "      <td>-19.837</td>\n",
              "      <td>Minor</td>\n",
              "      <td>0.0380</td>\n",
              "      <td>82.01</td>\n",
              "      <td>4-Apr</td>\n",
              "      <td>0.149</td>\n",
              "      <td>Classical</td>\n",
              "    </tr>\n",
              "    <tr>\n",
              "      <th>...</th>\n",
              "      <td>...</td>\n",
              "      <td>...</td>\n",
              "      <td>...</td>\n",
              "      <td>...</td>\n",
              "      <td>...</td>\n",
              "      <td>...</td>\n",
              "      <td>...</td>\n",
              "      <td>...</td>\n",
              "      <td>...</td>\n",
              "      <td>...</td>\n",
              "      <td>...</td>\n",
              "      <td>...</td>\n",
              "      <td>...</td>\n",
              "      <td>...</td>\n",
              "      <td>...</td>\n",
              "      <td>...</td>\n",
              "      <td>...</td>\n",
              "      <td>...</td>\n",
              "    </tr>\n",
              "    <tr>\n",
              "      <th>4423</th>\n",
              "      <td>49396.0</td>\n",
              "      <td>Black Tiger Sex Machine</td>\n",
              "      <td>Funeral March - Original Mix</td>\n",
              "      <td>28.0</td>\n",
              "      <td>0.002710</td>\n",
              "      <td>0.457</td>\n",
              "      <td>248105.0</td>\n",
              "      <td>0.8920</td>\n",
              "      <td>0.852000</td>\n",
              "      <td>A</td>\n",
              "      <td>0.102</td>\n",
              "      <td>-5.628</td>\n",
              "      <td>Minor</td>\n",
              "      <td>0.0511</td>\n",
              "      <td>180.06799999999998</td>\n",
              "      <td>4-Apr</td>\n",
              "      <td>0.217</td>\n",
              "      <td>Electronic</td>\n",
              "    </tr>\n",
              "    <tr>\n",
              "      <th>32778</th>\n",
              "      <td>67629.0</td>\n",
              "      <td>Widespread Panic</td>\n",
              "      <td>Space Wrangler - Live</td>\n",
              "      <td>22.0</td>\n",
              "      <td>0.039900</td>\n",
              "      <td>0.301</td>\n",
              "      <td>652213.0</td>\n",
              "      <td>0.9120</td>\n",
              "      <td>0.484000</td>\n",
              "      <td>C</td>\n",
              "      <td>0.905</td>\n",
              "      <td>-7.242</td>\n",
              "      <td>Major</td>\n",
              "      <td>0.0667</td>\n",
              "      <td>127.89</td>\n",
              "      <td>4-Apr</td>\n",
              "      <td>0.318</td>\n",
              "      <td>Blues</td>\n",
              "    </tr>\n",
              "    <tr>\n",
              "      <th>22389</th>\n",
              "      <td>86114.0</td>\n",
              "      <td>The Reklaws</td>\n",
              "      <td>Long Live The Night</td>\n",
              "      <td>51.0</td>\n",
              "      <td>0.005370</td>\n",
              "      <td>0.547</td>\n",
              "      <td>206013.0</td>\n",
              "      <td>0.7790</td>\n",
              "      <td>0.000000</td>\n",
              "      <td>G</td>\n",
              "      <td>0.140</td>\n",
              "      <td>-5.563</td>\n",
              "      <td>Major</td>\n",
              "      <td>0.0358</td>\n",
              "      <td>126.97</td>\n",
              "      <td>4-Apr</td>\n",
              "      <td>0.361</td>\n",
              "      <td>Country</td>\n",
              "    </tr>\n",
              "    <tr>\n",
              "      <th>28262</th>\n",
              "      <td>40441.0</td>\n",
              "      <td>Disturbed</td>\n",
              "      <td>The Vengeful One</td>\n",
              "      <td>66.0</td>\n",
              "      <td>0.000213</td>\n",
              "      <td>0.238</td>\n",
              "      <td>252003.0</td>\n",
              "      <td>0.9670</td>\n",
              "      <td>0.000001</td>\n",
              "      <td>E</td>\n",
              "      <td>0.260</td>\n",
              "      <td>-2.602</td>\n",
              "      <td>Minor</td>\n",
              "      <td>0.1360</td>\n",
              "      <td>170.128</td>\n",
              "      <td>4-Apr</td>\n",
              "      <td>0.580</td>\n",
              "      <td>Rap</td>\n",
              "    </tr>\n",
              "    <tr>\n",
              "      <th>29269</th>\n",
              "      <td>70243.0</td>\n",
              "      <td>bbno$</td>\n",
              "      <td>shining</td>\n",
              "      <td>60.0</td>\n",
              "      <td>0.325000</td>\n",
              "      <td>0.867</td>\n",
              "      <td>153191.0</td>\n",
              "      <td>0.6020</td>\n",
              "      <td>0.000000</td>\n",
              "      <td>C#</td>\n",
              "      <td>0.114</td>\n",
              "      <td>-10.486</td>\n",
              "      <td>Major</td>\n",
              "      <td>0.3510</td>\n",
              "      <td>94.025</td>\n",
              "      <td>4-Apr</td>\n",
              "      <td>0.782</td>\n",
              "      <td>Rap</td>\n",
              "    </tr>\n",
              "  </tbody>\n",
              "</table>\n",
              "<p>20000 rows × 18 columns</p>\n",
              "</div>\n",
              "      <button class=\"colab-df-convert\" onclick=\"convertToInteractive('df-1fee6c24-7000-401b-95d2-83b1fd867f7c')\"\n",
              "              title=\"Convert this dataframe to an interactive table.\"\n",
              "              style=\"display:none;\">\n",
              "        \n",
              "  <svg xmlns=\"http://www.w3.org/2000/svg\" height=\"24px\"viewBox=\"0 0 24 24\"\n",
              "       width=\"24px\">\n",
              "    <path d=\"M0 0h24v24H0V0z\" fill=\"none\"/>\n",
              "    <path d=\"M18.56 5.44l.94 2.06.94-2.06 2.06-.94-2.06-.94-.94-2.06-.94 2.06-2.06.94zm-11 1L8.5 8.5l.94-2.06 2.06-.94-2.06-.94L8.5 2.5l-.94 2.06-2.06.94zm10 10l.94 2.06.94-2.06 2.06-.94-2.06-.94-.94-2.06-.94 2.06-2.06.94z\"/><path d=\"M17.41 7.96l-1.37-1.37c-.4-.4-.92-.59-1.43-.59-.52 0-1.04.2-1.43.59L10.3 9.45l-7.72 7.72c-.78.78-.78 2.05 0 2.83L4 21.41c.39.39.9.59 1.41.59.51 0 1.02-.2 1.41-.59l7.78-7.78 2.81-2.81c.8-.78.8-2.07 0-2.86zM5.41 20L4 18.59l7.72-7.72 1.47 1.35L5.41 20z\"/>\n",
              "  </svg>\n",
              "      </button>\n",
              "      \n",
              "  <style>\n",
              "    .colab-df-container {\n",
              "      display:flex;\n",
              "      flex-wrap:wrap;\n",
              "      gap: 12px;\n",
              "    }\n",
              "\n",
              "    .colab-df-convert {\n",
              "      background-color: #E8F0FE;\n",
              "      border: none;\n",
              "      border-radius: 50%;\n",
              "      cursor: pointer;\n",
              "      display: none;\n",
              "      fill: #1967D2;\n",
              "      height: 32px;\n",
              "      padding: 0 0 0 0;\n",
              "      width: 32px;\n",
              "    }\n",
              "\n",
              "    .colab-df-convert:hover {\n",
              "      background-color: #E2EBFA;\n",
              "      box-shadow: 0px 1px 2px rgba(60, 64, 67, 0.3), 0px 1px 3px 1px rgba(60, 64, 67, 0.15);\n",
              "      fill: #174EA6;\n",
              "    }\n",
              "\n",
              "    [theme=dark] .colab-df-convert {\n",
              "      background-color: #3B4455;\n",
              "      fill: #D2E3FC;\n",
              "    }\n",
              "\n",
              "    [theme=dark] .colab-df-convert:hover {\n",
              "      background-color: #434B5C;\n",
              "      box-shadow: 0px 1px 3px 1px rgba(0, 0, 0, 0.15);\n",
              "      filter: drop-shadow(0px 1px 2px rgba(0, 0, 0, 0.3));\n",
              "      fill: #FFFFFF;\n",
              "    }\n",
              "  </style>\n",
              "\n",
              "      <script>\n",
              "        const buttonEl =\n",
              "          document.querySelector('#df-1fee6c24-7000-401b-95d2-83b1fd867f7c button.colab-df-convert');\n",
              "        buttonEl.style.display =\n",
              "          google.colab.kernel.accessAllowed ? 'block' : 'none';\n",
              "\n",
              "        async function convertToInteractive(key) {\n",
              "          const element = document.querySelector('#df-1fee6c24-7000-401b-95d2-83b1fd867f7c');\n",
              "          const dataTable =\n",
              "            await google.colab.kernel.invokeFunction('convertToInteractive',\n",
              "                                                     [key], {});\n",
              "          if (!dataTable) return;\n",
              "\n",
              "          const docLinkHtml = 'Like what you see? Visit the ' +\n",
              "            '<a target=\"_blank\" href=https://colab.research.google.com/notebooks/data_table.ipynb>data table notebook</a>'\n",
              "            + ' to learn more about interactive tables.';\n",
              "          element.innerHTML = '';\n",
              "          dataTable['output_type'] = 'display_data';\n",
              "          await google.colab.output.renderOutput(dataTable, element);\n",
              "          const docLink = document.createElement('div');\n",
              "          docLink.innerHTML = docLinkHtml;\n",
              "          element.appendChild(docLink);\n",
              "        }\n",
              "      </script>\n",
              "    </div>\n",
              "  </div>\n",
              "  "
            ],
            "text/plain": [
              "       instance_id              artist_name  \\\n",
              "34747      21032.0                The Heavy   \n",
              "10282      24780.0                   Mndsgn   \n",
              "1834       38095.0           Massive Attack   \n",
              "14964      65829.0               Cory Henry   \n",
              "42384      48556.0   Georg Philipp Telemann   \n",
              "...            ...                      ...   \n",
              "4423       49396.0  Black Tiger Sex Machine   \n",
              "32778      67629.0         Widespread Panic   \n",
              "22389      86114.0              The Reklaws   \n",
              "28262      40441.0                Disturbed   \n",
              "29269      70243.0                    bbno$   \n",
              "\n",
              "                                     track_name  popularity  acousticness  \\\n",
              "34747                        Put the Hurt on Me        34.0      0.001340   \n",
              "10282                       Guess It’s All Over        38.0      0.140000   \n",
              "1834                              Man Next Door        52.0      0.037100   \n",
              "14964                                     Seven        36.0      0.692000   \n",
              "42384  Trio in B Minor, TWV 42:h6: III. Andante         8.0      0.861000   \n",
              "...                                         ...         ...           ...   \n",
              "4423               Funeral March - Original Mix        28.0      0.002710   \n",
              "32778                     Space Wrangler - Live        22.0      0.039900   \n",
              "22389                       Long Live The Night        51.0      0.005370   \n",
              "28262                          The Vengeful One        66.0      0.000213   \n",
              "29269                                   shining        60.0      0.325000   \n",
              "\n",
              "       danceability  duration_ms  energy  instrumentalness key  liveness  \\\n",
              "34747         0.639     247067.0  0.8640          0.000108   D     0.121   \n",
              "10282         0.640     347402.0  0.4810          0.000043   E     0.071   \n",
              "1834          0.727     356267.0  0.6660          0.128000  G#     0.157   \n",
              "14964         0.464     315539.0  0.5720          0.930000  C#     0.392   \n",
              "42384         0.195     188987.0  0.0374          0.002140   F     0.112   \n",
              "...             ...          ...     ...               ...  ..       ...   \n",
              "4423          0.457     248105.0  0.8920          0.852000   A     0.102   \n",
              "32778         0.301     652213.0  0.9120          0.484000   C     0.905   \n",
              "22389         0.547     206013.0  0.7790          0.000000   G     0.140   \n",
              "28262         0.238     252003.0  0.9670          0.000001   E     0.260   \n",
              "29269         0.867     153191.0  0.6020          0.000000  C#     0.114   \n",
              "\n",
              "       loudness   mode  speechiness               tempo obtained_date  \\\n",
              "34747    -4.062  Major       0.2560              178.11         4-Apr   \n",
              "10282    -8.646  Minor       0.0558             121.963         4-Apr   \n",
              "1834     -9.777  Major       0.0334             129.995         4-Apr   \n",
              "14964    -8.594  Minor       0.0673  112.13600000000001         1-Apr   \n",
              "42384   -19.837  Minor       0.0380               82.01         4-Apr   \n",
              "...         ...    ...          ...                 ...           ...   \n",
              "4423     -5.628  Minor       0.0511  180.06799999999998         4-Apr   \n",
              "32778    -7.242  Major       0.0667              127.89         4-Apr   \n",
              "22389    -5.563  Major       0.0358              126.97         4-Apr   \n",
              "28262    -2.602  Minor       0.1360             170.128         4-Apr   \n",
              "29269   -10.486  Major       0.3510              94.025         4-Apr   \n",
              "\n",
              "       valence music_genre  \n",
              "34747    0.685       Blues  \n",
              "10282    0.750        Jazz  \n",
              "1834     0.564  Electronic  \n",
              "14964    0.578        Jazz  \n",
              "42384    0.149   Classical  \n",
              "...        ...         ...  \n",
              "4423     0.217  Electronic  \n",
              "32778    0.318       Blues  \n",
              "22389    0.361     Country  \n",
              "28262    0.580         Rap  \n",
              "29269    0.782         Rap  \n",
              "\n",
              "[20000 rows x 18 columns]"
            ]
          },
          "execution_count": 5,
          "metadata": {},
          "output_type": "execute_result"
        }
      ],
      "source": [
        "from google.colab import drive\n",
        "import pandas as pd\n",
        "\n",
        "#Загрузите датасет music_genre.csv\n",
        "df = pd.read_csv('music_genre.csv')\n",
        "\n",
        "#Возьмите 20 тысяч случайных строк из датасета\n",
        "df = df.sample(n = 20000)\n",
        "df"
      ]
    },
    {
      "cell_type": "code",
      "execution_count": null,
      "metadata": {
        "id": "32lGtSDufamT"
      },
      "outputs": [],
      "source": []
    },
    {
      "cell_type": "code",
      "execution_count": null,
      "metadata": {
        "id": "CdDZgNsEwsgA"
      },
      "outputs": [],
      "source": []
    },
    {
      "cell_type": "markdown",
      "metadata": {
        "id": "P3BidIDExIrK"
      },
      "source": [
        "### Задание 2\n",
        "\n",
        "1. Выведите долю каждого жанра в датасете.\n",
        "2. Покажите на горизонтальной столбиковой диаграмме распределение количества треков по жанрам. Выделите контрастным цветом жанр, в котором больше всего песен.\n",
        "3. Найдите самый танцевальный жанр. У самого танцевального жанра среднее значение показателя danceability должно быть наивысшим.\n",
        "4. Для каждого жанра определите, какая тональность в нем преобладает – количество треков какой тональность больше (минор или мажор)."
      ]
    },
    {
      "cell_type": "code",
      "execution_count": null,
      "metadata": {
        "id": "0j2MWLdoytCV"
      },
      "outputs": [],
      "source": [
        "# PUT YOUR CODE HERE"
      ]
    },
    {
      "cell_type": "markdown",
      "metadata": {
        "id": "UFsKd07syxWI"
      },
      "source": [
        "### Задание 3\n",
        "\n",
        "1. Выведите исполнителя, у которого больше всего треков в датасете. И того, у которого их меньше всех.\n",
        "2. Покажите на горизонтральной столбиковой диаграмме топ-20 исполнителей. Изучите результат и сделайте выводы."
      ]
    },
    {
      "cell_type": "code",
      "execution_count": null,
      "metadata": {
        "id": "jm6uJLiPzS_1"
      },
      "outputs": [],
      "source": [
        "# PUT YOUR CODE HERE"
      ]
    },
    {
      "cell_type": "markdown",
      "metadata": {
        "id": "pjBj8HWkr1nI"
      },
      "source": [
        "### Задание 4"
      ]
    },
    {
      "cell_type": "markdown",
      "metadata": {
        "id": "u3nyqiKmwj2F"
      },
      "source": [
        "1. Постройте корреляционную матрицу для характеристик треков. Между какими характеристиками сильная корреляция? Между какими слабая? Есть ли характеристики, между которыми корреляции практически нет.\n",
        "2. Посчитайте корреляцию между популярностью (popularity) и длиной названия трека."
      ]
    },
    {
      "cell_type": "code",
      "execution_count": null,
      "metadata": {
        "id": "QN6HDuT9rtVz"
      },
      "outputs": [],
      "source": [
        "# PUT YOUR CODE HERE"
      ]
    },
    {
      "cell_type": "markdown",
      "metadata": {
        "id": "0ygsFcLSwrTt"
      },
      "source": [
        "### Задание 5\n",
        "\n",
        "Покажите на ящиковой диаграмме отношение популярности треков к жанру. Какие жанры похожи между собой?"
      ]
    },
    {
      "cell_type": "code",
      "execution_count": null,
      "metadata": {
        "id": "QKHJ85OHwrTu"
      },
      "outputs": [],
      "source": [
        "# PUT YOUR CODE HERE"
      ]
    },
    {
      "cell_type": "markdown",
      "metadata": {
        "id": "zrX_7sX_wrd-"
      },
      "source": [
        "### Задание 6"
      ]
    },
    {
      "cell_type": "markdown",
      "metadata": {
        "id": "-YxfmmMSwrd_"
      },
      "source": [
        "Для топ-3 жанров покажите на круговой диаграмме с группировкой самого популярного исполнителя. Диаграмма должна быть одна."
      ]
    },
    {
      "cell_type": "code",
      "execution_count": null,
      "metadata": {
        "id": "emEaxEcuwrd_"
      },
      "outputs": [],
      "source": [
        "# PUT YOUR CODE HERE"
      ]
    },
    {
      "cell_type": "markdown",
      "metadata": {
        "id": "xSf_PxzKwrmy"
      },
      "source": [
        "### Задание 7"
      ]
    },
    {
      "cell_type": "markdown",
      "metadata": {
        "id": "XfsIogcJwrmz"
      },
      "source": [
        "На вертикальной столбиковой диаграмме для самого популярного (popularity) и самого непопулярного жанров покажите средние значения по всем характеристикам. Отрицательные и положительные значения характеристик показывайте разными цветами."
      ]
    },
    {
      "cell_type": "code",
      "execution_count": null,
      "metadata": {
        "id": "_qfk7y5Mwrmz"
      },
      "outputs": [],
      "source": [
        "# PUT YOUR CODE HERE"
      ]
    },
    {
      "cell_type": "markdown",
      "metadata": {
        "id": "CxGr4PzCwrvk"
      },
      "source": [
        "### Задание 8"
      ]
    },
    {
      "cell_type": "markdown",
      "metadata": {
        "id": "40NA2CMZwrvk"
      },
      "source": [
        "1. Добавьте в данные категориальный столбец `длительность_трека`, в котором будут значения: \"короткая\" (<=3min), \"средняя\" (>3min, <=5min), \"длинная\" (>5min). \n",
        "2. Покажите график плотности распределения данных в столбце `loudness`, сгруппированных по категориям длительности.\n",
        "3. На круговой диаграмме вида \"пончик\" покажите численное соотношение треков разной длительности."
      ]
    },
    {
      "cell_type": "code",
      "execution_count": null,
      "metadata": {
        "id": "C8mkWk2fwrvl"
      },
      "outputs": [],
      "source": [
        "# PUT YOUR CODE HERE"
      ]
    },
    {
      "cell_type": "markdown",
      "metadata": {
        "id": "Z0_35fxD5H_H"
      },
      "source": [
        "## Часть 2\n",
        "\n",
        "Выполните на языке R следующие задания:\n",
        "- задание 1 – целиком\n",
        "- задание 2 – целиком\n",
        "- задание 3 – целиком\n",
        "- задание 4 – целиком\n",
        "- задание 5 – целиком\n",
        "- задание 6 – не выполнять\n",
        "- задание 7 – целиком\n",
        "- задание 8 – целиком, но в третьем пункте постройте круговую диаграмму"
      ]
    },
    {
      "cell_type": "markdown",
      "metadata": {
        "id": "XveRUbLT56Nu"
      },
      "source": [
        "Задание для части 2 выполняйте в отдельном гугл-колабе, настроенном для языка R. Гугл-колаб с решениями второй части также соедините с веткой homework06 своего гитхаба."
      ]
    },
    {
      "cell_type": "markdown",
      "metadata": {
        "id": "HUEGsrLO6-GA"
      },
      "source": [
        "## Часть 3 (дополнительная)\n",
        "\n",
        "Часть не является обязательной, но ее верное(!) выполнение освобождает вас от защиты работы.\n",
        "\n",
        "Выполните на языке SQL следующие задания:\n",
        "- задание 1 – пункт 4\n",
        "- задание 2 – пункты 1, 3, 4\n",
        "- задание 3 – целиком, но без графика во втором пункте\n",
        "- задание 4 – не выполнять\n",
        "- задание 5 – не выполнять\n",
        "- задание 6 – не выполнять\n",
        "- задание 7 – не выполнять\n",
        "- задание 8 – пункт 1 и пункт 3 (в 3 пункте просто посчитайте количество треков каждой длительности)"
      ]
    },
    {
      "cell_type": "markdown",
      "metadata": {
        "id": "7UmmyVWb-1EQ"
      },
      "source": [
        "Задание для части 3 выполняйте в отдельном гугл-колабе. Гугл-колаб с решениями второй части также соедините с веткой homework06 своего гитхаба."
      ]
    },
    {
      "cell_type": "markdown",
      "metadata": {
        "id": "a6k-9j1a-8T-"
      },
      "source": [
        "#### Пример"
      ]
    },
    {
      "cell_type": "code",
      "execution_count": null,
      "metadata": {
        "colab": {
          "base_uri": "https://localhost:8080/",
          "height": 315
        },
        "id": "pJ4xc_vO8Z0k",
        "outputId": "d83053d0-1bf9-4cbf-ddb2-29931fe692ae"
      },
      "outputs": [
        {
          "data": {
            "text/html": [
              "\n",
              "  <div id=\"df-e7754b78-e2c5-48ad-ab21-29b24a9cbbaa\">\n",
              "    <div class=\"colab-df-container\">\n",
              "      <div>\n",
              "<style scoped>\n",
              "    .dataframe tbody tr th:only-of-type {\n",
              "        vertical-align: middle;\n",
              "    }\n",
              "\n",
              "    .dataframe tbody tr th {\n",
              "        vertical-align: top;\n",
              "    }\n",
              "\n",
              "    .dataframe thead th {\n",
              "        text-align: right;\n",
              "    }\n",
              "</style>\n",
              "<table border=\"1\" class=\"dataframe\">\n",
              "  <thead>\n",
              "    <tr style=\"text-align: right;\">\n",
              "      <th></th>\n",
              "      <th>instance_id</th>\n",
              "      <th>artist_name</th>\n",
              "      <th>track_name</th>\n",
              "      <th>popularity</th>\n",
              "      <th>acousticness</th>\n",
              "      <th>danceability</th>\n",
              "      <th>duration_ms</th>\n",
              "      <th>energy</th>\n",
              "      <th>instrumentalness</th>\n",
              "      <th>key</th>\n",
              "      <th>liveness</th>\n",
              "      <th>loudness</th>\n",
              "      <th>mode</th>\n",
              "      <th>speechiness</th>\n",
              "      <th>tempo</th>\n",
              "      <th>obtained_date</th>\n",
              "      <th>valence</th>\n",
              "      <th>music_genre</th>\n",
              "    </tr>\n",
              "  </thead>\n",
              "  <tbody>\n",
              "    <tr>\n",
              "      <th>0</th>\n",
              "      <td>32894.0</td>\n",
              "      <td>Röyksopp</td>\n",
              "      <td>Röyksopp's Night Out</td>\n",
              "      <td>27.0</td>\n",
              "      <td>0.00468</td>\n",
              "      <td>0.652</td>\n",
              "      <td>-1.0</td>\n",
              "      <td>0.941</td>\n",
              "      <td>0.79200</td>\n",
              "      <td>A#</td>\n",
              "      <td>0.115</td>\n",
              "      <td>-5.201</td>\n",
              "      <td>Minor</td>\n",
              "      <td>0.0748</td>\n",
              "      <td>100.889</td>\n",
              "      <td>4-Apr</td>\n",
              "      <td>0.759</td>\n",
              "      <td>Electronic</td>\n",
              "    </tr>\n",
              "    <tr>\n",
              "      <th>1</th>\n",
              "      <td>46652.0</td>\n",
              "      <td>Thievery Corporation</td>\n",
              "      <td>The Shining Path</td>\n",
              "      <td>31.0</td>\n",
              "      <td>0.01270</td>\n",
              "      <td>0.622</td>\n",
              "      <td>218293.0</td>\n",
              "      <td>0.890</td>\n",
              "      <td>0.95000</td>\n",
              "      <td>D</td>\n",
              "      <td>0.124</td>\n",
              "      <td>-7.043</td>\n",
              "      <td>Minor</td>\n",
              "      <td>0.0300</td>\n",
              "      <td>115.00200000000001</td>\n",
              "      <td>4-Apr</td>\n",
              "      <td>0.531</td>\n",
              "      <td>Electronic</td>\n",
              "    </tr>\n",
              "    <tr>\n",
              "      <th>2</th>\n",
              "      <td>30097.0</td>\n",
              "      <td>Dillon Francis</td>\n",
              "      <td>Hurricane</td>\n",
              "      <td>28.0</td>\n",
              "      <td>0.00306</td>\n",
              "      <td>0.620</td>\n",
              "      <td>215613.0</td>\n",
              "      <td>0.755</td>\n",
              "      <td>0.01180</td>\n",
              "      <td>G#</td>\n",
              "      <td>0.534</td>\n",
              "      <td>-4.617</td>\n",
              "      <td>Major</td>\n",
              "      <td>0.0345</td>\n",
              "      <td>127.994</td>\n",
              "      <td>4-Apr</td>\n",
              "      <td>0.333</td>\n",
              "      <td>Electronic</td>\n",
              "    </tr>\n",
              "    <tr>\n",
              "      <th>3</th>\n",
              "      <td>62177.0</td>\n",
              "      <td>Dubloadz</td>\n",
              "      <td>Nitro</td>\n",
              "      <td>34.0</td>\n",
              "      <td>0.02540</td>\n",
              "      <td>0.774</td>\n",
              "      <td>166875.0</td>\n",
              "      <td>0.700</td>\n",
              "      <td>0.00253</td>\n",
              "      <td>C#</td>\n",
              "      <td>0.157</td>\n",
              "      <td>-4.498</td>\n",
              "      <td>Major</td>\n",
              "      <td>0.2390</td>\n",
              "      <td>128.014</td>\n",
              "      <td>4-Apr</td>\n",
              "      <td>0.270</td>\n",
              "      <td>Electronic</td>\n",
              "    </tr>\n",
              "    <tr>\n",
              "      <th>4</th>\n",
              "      <td>24907.0</td>\n",
              "      <td>What So Not</td>\n",
              "      <td>Divide &amp; Conquer</td>\n",
              "      <td>32.0</td>\n",
              "      <td>0.00465</td>\n",
              "      <td>0.638</td>\n",
              "      <td>222369.0</td>\n",
              "      <td>0.587</td>\n",
              "      <td>0.90900</td>\n",
              "      <td>F#</td>\n",
              "      <td>0.157</td>\n",
              "      <td>-6.266</td>\n",
              "      <td>Major</td>\n",
              "      <td>0.0413</td>\n",
              "      <td>145.036</td>\n",
              "      <td>4-Apr</td>\n",
              "      <td>0.323</td>\n",
              "      <td>Electronic</td>\n",
              "    </tr>\n",
              "  </tbody>\n",
              "</table>\n",
              "</div>\n",
              "      <button class=\"colab-df-convert\" onclick=\"convertToInteractive('df-e7754b78-e2c5-48ad-ab21-29b24a9cbbaa')\"\n",
              "              title=\"Convert this dataframe to an interactive table.\"\n",
              "              style=\"display:none;\">\n",
              "        \n",
              "  <svg xmlns=\"http://www.w3.org/2000/svg\" height=\"24px\"viewBox=\"0 0 24 24\"\n",
              "       width=\"24px\">\n",
              "    <path d=\"M0 0h24v24H0V0z\" fill=\"none\"/>\n",
              "    <path d=\"M18.56 5.44l.94 2.06.94-2.06 2.06-.94-2.06-.94-.94-2.06-.94 2.06-2.06.94zm-11 1L8.5 8.5l.94-2.06 2.06-.94-2.06-.94L8.5 2.5l-.94 2.06-2.06.94zm10 10l.94 2.06.94-2.06 2.06-.94-2.06-.94-.94-2.06-.94 2.06-2.06.94z\"/><path d=\"M17.41 7.96l-1.37-1.37c-.4-.4-.92-.59-1.43-.59-.52 0-1.04.2-1.43.59L10.3 9.45l-7.72 7.72c-.78.78-.78 2.05 0 2.83L4 21.41c.39.39.9.59 1.41.59.51 0 1.02-.2 1.41-.59l7.78-7.78 2.81-2.81c.8-.78.8-2.07 0-2.86zM5.41 20L4 18.59l7.72-7.72 1.47 1.35L5.41 20z\"/>\n",
              "  </svg>\n",
              "      </button>\n",
              "      \n",
              "  <style>\n",
              "    .colab-df-container {\n",
              "      display:flex;\n",
              "      flex-wrap:wrap;\n",
              "      gap: 12px;\n",
              "    }\n",
              "\n",
              "    .colab-df-convert {\n",
              "      background-color: #E8F0FE;\n",
              "      border: none;\n",
              "      border-radius: 50%;\n",
              "      cursor: pointer;\n",
              "      display: none;\n",
              "      fill: #1967D2;\n",
              "      height: 32px;\n",
              "      padding: 0 0 0 0;\n",
              "      width: 32px;\n",
              "    }\n",
              "\n",
              "    .colab-df-convert:hover {\n",
              "      background-color: #E2EBFA;\n",
              "      box-shadow: 0px 1px 2px rgba(60, 64, 67, 0.3), 0px 1px 3px 1px rgba(60, 64, 67, 0.15);\n",
              "      fill: #174EA6;\n",
              "    }\n",
              "\n",
              "    [theme=dark] .colab-df-convert {\n",
              "      background-color: #3B4455;\n",
              "      fill: #D2E3FC;\n",
              "    }\n",
              "\n",
              "    [theme=dark] .colab-df-convert:hover {\n",
              "      background-color: #434B5C;\n",
              "      box-shadow: 0px 1px 3px 1px rgba(0, 0, 0, 0.15);\n",
              "      filter: drop-shadow(0px 1px 2px rgba(0, 0, 0, 0.3));\n",
              "      fill: #FFFFFF;\n",
              "    }\n",
              "  </style>\n",
              "\n",
              "      <script>\n",
              "        const buttonEl =\n",
              "          document.querySelector('#df-e7754b78-e2c5-48ad-ab21-29b24a9cbbaa button.colab-df-convert');\n",
              "        buttonEl.style.display =\n",
              "          google.colab.kernel.accessAllowed ? 'block' : 'none';\n",
              "\n",
              "        async function convertToInteractive(key) {\n",
              "          const element = document.querySelector('#df-e7754b78-e2c5-48ad-ab21-29b24a9cbbaa');\n",
              "          const dataTable =\n",
              "            await google.colab.kernel.invokeFunction('convertToInteractive',\n",
              "                                                     [key], {});\n",
              "          if (!dataTable) return;\n",
              "\n",
              "          const docLinkHtml = 'Like what you see? Visit the ' +\n",
              "            '<a target=\"_blank\" href=https://colab.research.google.com/notebooks/data_table.ipynb>data table notebook</a>'\n",
              "            + ' to learn more about interactive tables.';\n",
              "          element.innerHTML = '';\n",
              "          dataTable['output_type'] = 'display_data';\n",
              "          await google.colab.output.renderOutput(dataTable, element);\n",
              "          const docLink = document.createElement('div');\n",
              "          docLink.innerHTML = docLinkHtml;\n",
              "          element.appendChild(docLink);\n",
              "        }\n",
              "      </script>\n",
              "    </div>\n",
              "  </div>\n",
              "  "
            ],
            "text/plain": [
              "   instance_id           artist_name            track_name  popularity  \\\n",
              "0      32894.0              Röyksopp  Röyksopp's Night Out        27.0   \n",
              "1      46652.0  Thievery Corporation      The Shining Path        31.0   \n",
              "2      30097.0        Dillon Francis             Hurricane        28.0   \n",
              "3      62177.0              Dubloadz                 Nitro        34.0   \n",
              "4      24907.0           What So Not      Divide & Conquer        32.0   \n",
              "\n",
              "   acousticness  danceability  duration_ms  energy  instrumentalness key  \\\n",
              "0       0.00468         0.652         -1.0   0.941           0.79200  A#   \n",
              "1       0.01270         0.622     218293.0   0.890           0.95000   D   \n",
              "2       0.00306         0.620     215613.0   0.755           0.01180  G#   \n",
              "3       0.02540         0.774     166875.0   0.700           0.00253  C#   \n",
              "4       0.00465         0.638     222369.0   0.587           0.90900  F#   \n",
              "\n",
              "   liveness  loudness   mode  speechiness               tempo obtained_date  \\\n",
              "0     0.115    -5.201  Minor       0.0748             100.889         4-Apr   \n",
              "1     0.124    -7.043  Minor       0.0300  115.00200000000001         4-Apr   \n",
              "2     0.534    -4.617  Major       0.0345             127.994         4-Apr   \n",
              "3     0.157    -4.498  Major       0.2390             128.014         4-Apr   \n",
              "4     0.157    -6.266  Major       0.0413             145.036         4-Apr   \n",
              "\n",
              "   valence music_genre  \n",
              "0    0.759  Electronic  \n",
              "1    0.531  Electronic  \n",
              "2    0.333  Electronic  \n",
              "3    0.270  Electronic  \n",
              "4    0.323  Electronic  "
            ]
          },
          "execution_count": 10,
          "metadata": {},
          "output_type": "execute_result"
        }
      ],
      "source": [
        "import pandas as pd\n",
        "df = pd.read_csv(\"music_genre.csv\")\n",
        "df.head()"
      ]
    },
    {
      "cell_type": "code",
      "execution_count": null,
      "metadata": {
        "colab": {
          "base_uri": "https://localhost:8080/"
        },
        "id": "Q-FOrHTF8m61",
        "outputId": "12375277-3fa1-46e2-8b94-16e4f99b0a60"
      },
      "outputs": [
        {
          "data": {
            "text/plain": [
              "[['Röyksopp', \"Röyksopp's Night Out\", 'Electronic'],\n",
              " ['Thievery Corporation', 'The Shining Path', 'Electronic'],\n",
              " ['Dillon Francis', 'Hurricane', 'Electronic'],\n",
              " ['Dubloadz', 'Nitro', 'Electronic'],\n",
              " ['What So Not', 'Divide & Conquer', 'Electronic'],\n",
              " ['Axel Boman', 'Hello', 'Electronic'],\n",
              " ['Jordan Comolli', 'Clash', 'Electronic'],\n",
              " ['Hraach', 'Delirio', 'Electronic'],\n",
              " ['Kayzo', 'NEVER ALONE', 'Electronic'],\n",
              " ['Shlump', 'Lazer Beam', 'Electronic']]"
            ]
          },
          "execution_count": 23,
          "metadata": {},
          "output_type": "execute_result"
        }
      ],
      "source": [
        "df[[\"artist_name\", \"track_name\", \"music_genre\"]].values.tolist()[:10]"
      ]
    },
    {
      "cell_type": "code",
      "execution_count": null,
      "metadata": {
        "colab": {
          "base_uri": "https://localhost:8080/"
        },
        "id": "Fh_SrFni54U_",
        "outputId": "5bd92ab8-ad25-4bf7-fdf0-600f2287ef0d"
      },
      "outputs": [
        {
          "data": {
            "text/plain": [
              "[('empty_field', 2489),\n",
              " ('Nobuo Uematsu', 429),\n",
              " ('Wolfgang Amadeus Mozart', 402),\n",
              " ('Ludwig van Beethoven', 317),\n",
              " ('Johann Sebastian Bach', 314),\n",
              " ('Frédéric Chopin', 241),\n",
              " ('Drake', 172),\n",
              " ('Capcom Sound Team', 169),\n",
              " ('Yuki Hayashi', 167),\n",
              " ('Eminem', 147),\n",
              " ('Future', 124),\n",
              " ('Thievery Corporation', 122),\n",
              " ('The Black Keys', 114),\n",
              " ('Pyotr Ilyich Tchaikovsky', 103),\n",
              " ('Kevin Gates', 102),\n",
              " ('Mac Miller', 97),\n",
              " ('Howard Shore', 93),\n",
              " ('Logic', 92),\n",
              " ('$uicideBoy$', 92),\n",
              " ('Ryuichi Sakamoto', 90)]"
            ]
          },
          "execution_count": 22,
          "metadata": {},
          "output_type": "execute_result"
        }
      ],
      "source": [
        "import sqlite3\n",
        "\n",
        "# создаем таблицу в БД\n",
        "con = sqlite3.connect(\":memory:\")\n",
        "cur = con.cursor()\n",
        "cur.execute(\"CREATE TABLE music (artist, track, genre);\")\n",
        "\n",
        "# переносим в таблицу данные\n",
        "cur.executemany(\"INSERT INTO music (artist, track, genre) \"\n",
        "                \"VALUES (?, ?, ?);\",\n",
        "                df[[\"artist_name\", \"track_name\", \"music_genre\"]].values.tolist())\n",
        "\n",
        "# сохраняем изменения\n",
        "con.commit()\n",
        "\n",
        "# создаем и выполняем запрос\n",
        "get_songs_per_artist = \"SELECT artist, \" \\\n",
        "       \"COUNT(artist) AS number_of_songs \" \\\n",
        "       \"FROM music \" \\\n",
        "       \"GROUP BY artist \" \\\n",
        "       \"ORDER BY number_of_songs \" \\\n",
        "       \"DESC;\"\n",
        "cur.execute(get_songs_per_artist)\n",
        "\n",
        "result = cur.fetchall()\n",
        "result[:20]"
      ]
    }
  ],
  "metadata": {
    "colab": {
      "provenance": [],
      "toc_visible": true,
      "include_colab_link": true
    },
    "kernelspec": {
      "display_name": "Python 3",
      "name": "python3"
    },
    "language_info": {
      "name": "python"
    }
  },
  "nbformat": 4,
  "nbformat_minor": 0
}